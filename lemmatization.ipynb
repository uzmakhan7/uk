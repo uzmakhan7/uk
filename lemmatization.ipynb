{
  "nbformat": 4,
  "nbformat_minor": 0,
  "metadata": {
    "colab": {
      "name": "lemmatization",
      "version": "0.3.2",
      "provenance": [],
      "include_colab_link": true
    },
    "kernelspec": {
      "name": "python3",
      "display_name": "Python 3"
    }
  },
  "cells": [
    {
      "cell_type": "markdown",
      "metadata": {
        "id": "view-in-github",
        "colab_type": "text"
      },
      "source": [
        "<a href=\"https://colab.research.google.com/github/uzmakhan7/uk/blob/NLP/lemmatization.ipynb\" target=\"_parent\"><img src=\"https://colab.research.google.com/assets/colab-badge.svg\" alt=\"Open In Colab\"/></a>"
      ]
    },
    {
      "cell_type": "code",
      "metadata": {
        "id": "GOLu-K9weaaw",
        "colab_type": "code",
        "colab": {}
      },
      "source": [
        "import spacy"
      ],
      "execution_count": 0,
      "outputs": []
    },
    {
      "cell_type": "code",
      "metadata": {
        "id": "aSJk6-97ecBU",
        "colab_type": "code",
        "colab": {}
      },
      "source": [
        "#language en --\n",
        "nlp=spacy.load('en')"
      ],
      "execution_count": 0,
      "outputs": []
    },
    {
      "cell_type": "code",
      "metadata": {
        "id": "7PbsAKZyeqWo",
        "colab_type": "code",
        "colab": {}
      },
      "source": [
        "data=\"hello good evening. \""
      ],
      "execution_count": 0,
      "outputs": []
    },
    {
      "cell_type": "code",
      "metadata": {
        "id": "angwAmSJfPDR",
        "colab_type": "code",
        "colab": {}
      },
      "source": [
        "new_data=nlp(data)"
      ],
      "execution_count": 0,
      "outputs": []
    },
    {
      "cell_type": "code",
      "metadata": {
        "id": "uTQHI1LofR5L",
        "colab_type": "code",
        "colab": {
          "base_uri": "https://localhost:8080/",
          "height": 221
        },
        "outputId": "bb194e1b-813e-4086-f2e8-0abcab73db8b"
      },
      "source": [
        "for i in new_data:\n",
        "  print(i,\"lemmatization of words\",i.lemma_)\n",
        "  print(\"##########\")\n",
        "  print(i,\"POS\",i.pos_)"
      ],
      "execution_count": 11,
      "outputs": [
        {
          "output_type": "stream",
          "text": [
            "hello lemmatization of words hello\n",
            "##########\n",
            "hello POS INTJ\n",
            "good lemmatization of words good\n",
            "##########\n",
            "good POS ADJ\n",
            "evening lemmatization of words evening\n",
            "##########\n",
            "evening POS NOUN\n",
            ". lemmatization of words .\n",
            "##########\n",
            ". POS PUNCT\n"
          ],
          "name": "stdout"
        }
      ]
    },
    {
      "cell_type": "code",
      "metadata": {
        "id": "04s9Vjzvfiaq",
        "colab_type": "code",
        "colab": {}
      },
      "source": [
        ""
      ],
      "execution_count": 0,
      "outputs": []
    }
  ]
}