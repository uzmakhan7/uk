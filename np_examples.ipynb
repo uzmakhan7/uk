{
  "nbformat": 4,
  "nbformat_minor": 0,
  "metadata": {
    "colab": {
      "name": "np_examples",
      "version": "0.3.2",
      "provenance": [],
      "collapsed_sections": [],
      "include_colab_link": true
    },
    "kernelspec": {
      "name": "python3",
      "display_name": "Python 3"
    }
  },
  "cells": [
    {
      "cell_type": "markdown",
      "metadata": {
        "id": "view-in-github",
        "colab_type": "text"
      },
      "source": [
        "<a href=\"https://colab.research.google.com/github/uzmakhan7/uk/blob/master/np_examples.ipynb\" target=\"_parent\"><img src=\"https://colab.research.google.com/assets/colab-badge.svg\" alt=\"Open In Colab\"/></a>"
      ]
    },
    {
      "cell_type": "code",
      "metadata": {
        "id": "UlbVZdL6hNgW",
        "colab_type": "code",
        "colab": {}
      },
      "source": [
        "from nltk.corpus import wordnet\n",
        "import time"
      ],
      "execution_count": 0,
      "outputs": []
    },
    {
      "cell_type": "code",
      "metadata": {
        "id": "I9lAkU7EhTlt",
        "colab_type": "code",
        "colab": {
          "base_uri": "https://localhost:8080/",
          "height": 51
        },
        "outputId": "ec2c4f46-9e50-457e-b99c-5963652d05f9"
      },
      "source": [
        "import nltk\n",
        "nltk.download('wordnet')\n",
        "ws=wordnet.synsets('work')"
      ],
      "execution_count": 4,
      "outputs": [
        {
          "output_type": "stream",
          "text": [
            "[nltk_data] Downloading package wordnet to /root/nltk_data...\n",
            "[nltk_data]   Unzipping corpora/wordnet.zip.\n"
          ],
          "name": "stdout"
        }
      ]
    },
    {
      "cell_type": "code",
      "metadata": {
        "id": "eYDdShFKhc7h",
        "colab_type": "code",
        "colab": {
          "base_uri": "https://localhost:8080/",
          "height": 595
        },
        "outputId": "3dfb1dc5-4c51-48bd-de7a-8fc23c14eff7"
      },
      "source": [
        "ws"
      ],
      "execution_count": 5,
      "outputs": [
        {
          "output_type": "execute_result",
          "data": {
            "text/plain": [
              "[Synset('work.n.01'),\n",
              " Synset('work.n.02'),\n",
              " Synset('employment.n.02'),\n",
              " Synset('study.n.02'),\n",
              " Synset('work.n.05'),\n",
              " Synset('workplace.n.01'),\n",
              " Synset('oeuvre.n.01'),\n",
              " Synset('work.v.01'),\n",
              " Synset('work.v.02'),\n",
              " Synset('work.v.03'),\n",
              " Synset('function.v.01'),\n",
              " Synset('work.v.05'),\n",
              " Synset('exercise.v.03'),\n",
              " Synset('make.v.36'),\n",
              " Synset('work.v.08'),\n",
              " Synset('work.v.09'),\n",
              " Synset('work.v.10'),\n",
              " Synset('bring.v.03'),\n",
              " Synset('work.v.12'),\n",
              " Synset('cultivate.v.02'),\n",
              " Synset('work.v.14'),\n",
              " Synset('influence.v.01'),\n",
              " Synset('work.v.16'),\n",
              " Synset('work.v.17'),\n",
              " Synset('work.v.18'),\n",
              " Synset('work.v.19'),\n",
              " Synset('shape.v.02'),\n",
              " Synset('work.v.21'),\n",
              " Synset('knead.v.01'),\n",
              " Synset('exploit.v.01'),\n",
              " Synset('solve.v.01'),\n",
              " Synset('ferment.v.03'),\n",
              " Synset('sour.v.01'),\n",
              " Synset('work.v.27')]"
            ]
          },
          "metadata": {
            "tags": []
          },
          "execution_count": 5
        }
      ]
    },
    {
      "cell_type": "code",
      "metadata": {
        "id": "Y27_wI_QhrTT",
        "colab_type": "code",
        "colab": {
          "base_uri": "https://localhost:8080/",
          "height": 34
        },
        "outputId": "71f9f6dd-dc9e-4c31-bc0d-0a0b85b6bdfa"
      },
      "source": [
        "len(ws)"
      ],
      "execution_count": 6,
      "outputs": [
        {
          "output_type": "execute_result",
          "data": {
            "text/plain": [
              "34"
            ]
          },
          "metadata": {
            "tags": []
          },
          "execution_count": 6
        }
      ]
    },
    {
      "cell_type": "code",
      "metadata": {
        "id": "yfTEE6_rhtXn",
        "colab_type": "code",
        "colab": {
          "base_uri": "https://localhost:8080/",
          "height": 34
        },
        "outputId": "010932cc-4707-43ad-c306-0b4c6cb56b4e"
      },
      "source": [
        "ws[0].definition()"
      ],
      "execution_count": 7,
      "outputs": [
        {
          "output_type": "execute_result",
          "data": {
            "text/plain": [
              "'activity directed toward making or doing something'"
            ]
          },
          "metadata": {
            "tags": []
          },
          "execution_count": 7
        }
      ]
    },
    {
      "cell_type": "code",
      "metadata": {
        "id": "ZYrel047h0IS",
        "colab_type": "code",
        "colab": {
          "base_uri": "https://localhost:8080/",
          "height": 34
        },
        "outputId": "d4274da3-4c79-4b51-9775-b597bfd12e62"
      },
      "source": [
        "ws[1].definition()"
      ],
      "execution_count": 8,
      "outputs": [
        {
          "output_type": "execute_result",
          "data": {
            "text/plain": [
              "'a product produced or accomplished through the effort or activity or agency of a person or thing'"
            ]
          },
          "metadata": {
            "tags": []
          },
          "execution_count": 8
        }
      ]
    },
    {
      "cell_type": "code",
      "metadata": {
        "id": "1KpFuK3mh8Mv",
        "colab_type": "code",
        "colab": {
          "base_uri": "https://localhost:8080/",
          "height": 34
        },
        "outputId": "b695f57e-73ec-425b-af66-01c20d7a68ee"
      },
      "source": [
        "ws[0].examples()"
      ],
      "execution_count": 9,
      "outputs": [
        {
          "output_type": "execute_result",
          "data": {
            "text/plain": [
              "['she checked several points needing further work']"
            ]
          },
          "metadata": {
            "tags": []
          },
          "execution_count": 9
        }
      ]
    },
    {
      "cell_type": "code",
      "metadata": {
        "id": "hmdVPelQiGxt",
        "colab_type": "code",
        "colab": {
          "base_uri": "https://localhost:8080/",
          "height": 102
        },
        "outputId": "640e32de-9d75-452e-c2f5-35f3f7f670ef"
      },
      "source": [
        "ws[1].examples()"
      ],
      "execution_count": 10,
      "outputs": [
        {
          "output_type": "execute_result",
          "data": {
            "text/plain": [
              "['it is not regarded as one of his more memorable works',\n",
              " 'the symphony was hailed as an ingenious work',\n",
              " 'he was indebted to the pioneering work of John Dewey',\n",
              " 'the work of an active imagination',\n",
              " 'erosion is the work of wind or water over time']"
            ]
          },
          "metadata": {
            "tags": []
          },
          "execution_count": 10
        }
      ]
    },
    {
      "cell_type": "code",
      "metadata": {
        "id": "Qs00WrebiOHm",
        "colab_type": "code",
        "colab": {
          "base_uri": "https://localhost:8080/",
          "height": 1000
        },
        "outputId": "de293cc7-066d-49d6-d007-bc89fae809fb"
      },
      "source": [
        "#exploring all the book\n",
        "msg=input(\"enter your word\")\n",
        "for i in wordnet.synsets(msg):\n",
        "  print(\"___________________\")\n",
        "  print(i.definition())\n",
        "  print(\"_________________\")\n",
        "  print(i.examples())\n",
        "  time.sleep(10)\n"
      ],
      "execution_count": 16,
      "outputs": [
        {
          "output_type": "stream",
          "text": [
            "___________________\n",
            "activity directed toward making or doing something\n",
            "_________________\n",
            "['she checked several points needing further work']\n",
            "___________________\n",
            "a product produced or accomplished through the effort or activity or agency of a person or thing\n",
            "_________________\n",
            "['it is not regarded as one of his more memorable works', 'the symphony was hailed as an ingenious work', 'he was indebted to the pioneering work of John Dewey', 'the work of an active imagination', 'erosion is the work of wind or water over time']\n",
            "___________________\n",
            "the occupation for which you are paid\n",
            "_________________\n",
            "['he is looking for employment', 'a lot of people are out of work']\n",
            "___________________\n",
            "applying the mind to learning and understanding a subject (especially by reading)\n",
            "_________________\n",
            "['mastering a second language requires a lot of work', 'no schools offer graduate study in interior design']\n",
            "___________________\n",
            "(physics) a manifestation of energy; the transfer of energy from one physical system to another expressed as the product of a force and the distance through which it moves a body in the direction of that force\n",
            "_________________\n",
            "['work equals force times distance']\n",
            "___________________\n",
            "a place where work is done\n",
            "_________________\n",
            "['he arrived at work early today']\n",
            "___________________\n",
            "the total output of a writer or artist (or a substantial part of it)\n",
            "_________________\n",
            "['he studied the entire Wagnerian oeuvre', \"Picasso's work can be divided into periods\"]\n",
            "___________________\n",
            "exert oneself by doing mental or physical work for a purpose or out of necessity\n",
            "_________________\n",
            "['I will work hard to improve my grades', 'she worked hard for better living conditions for the poor']\n",
            "___________________\n",
            "be employed\n",
            "_________________\n",
            "['Is your husband working again?', 'My wife never worked', 'Do you want to work after the age of 60?', 'She never did any work because she inherited a lot of money', 'She works as a waitress to put herself through college']\n",
            "___________________\n",
            "have an effect or outcome; often the one desired or expected\n",
            "_________________\n",
            "[\"The voting process doesn't work as well as people thought\", 'How does your idea work in practice?', \"This method doesn't work\", 'The breaks of my new car act quickly', 'The medicine works only if you take it with a lot of water']\n",
            "___________________\n",
            "perform as expected when applied\n",
            "_________________\n",
            "[\"The washing machine won't go unless it's plugged in\", 'Does this old car still run well?', \"This old radio doesn't work anymore\"]\n",
            "___________________\n",
            "shape, form, or improve a material\n",
            "_________________\n",
            "['work stone into tools', 'process iron', 'work the metal']\n",
            "___________________\n",
            "give a workout to\n",
            "_________________\n",
            "['Some parents exercise their infants', 'My personal trainer works me hard', \"work one's muscles\", 'this puzzle will exercise your mind']\n",
            "___________________\n",
            "proceed along a path\n",
            "_________________\n",
            "[\"work one's way through the crowd\", \"make one's way into the forest\"]\n",
            "___________________\n",
            "operate in a certain place, area, or specialty\n",
            "_________________\n",
            "['She works the night clubs', 'The salesman works the Midwest', 'This artist works mostly in acrylics']\n",
            "___________________\n",
            "proceed towards a goal or along a path or through an activity\n",
            "_________________\n",
            "['work your way through every problem or task', 'She was working on her second martini when the guests arrived', 'Start from the bottom and work towards the top']\n",
            "___________________\n",
            "move in an agitated manner\n",
            "_________________\n",
            "['His fingers worked with tension']\n",
            "___________________\n",
            "cause to happen or to occur as a consequence\n",
            "_________________\n",
            "['I cannot work a miracle', 'wreak havoc', 'bring comments', 'play a joke', 'The rain brought relief to the drought-stricken area']\n",
            "___________________\n",
            "cause to work\n",
            "_________________\n",
            "['he is working his servants hard']\n",
            "___________________\n",
            "prepare for crops\n",
            "_________________\n",
            "['Work the soil', 'cultivate the land']\n",
            "___________________\n",
            "behave in a certain way when handled\n",
            "_________________\n",
            "['This dough does not work easily', 'The soft metal works well']\n",
            "___________________\n",
            "have and exert influence or effect\n",
            "_________________\n",
            "[\"The artist's work influenced the young painter\", 'She worked on her friends to support the political candidate']\n",
            "___________________\n",
            "operate in or through\n",
            "_________________\n",
            "['Work the phones']\n",
            "___________________\n",
            "cause to operate or function\n",
            "_________________\n",
            "['This pilot works the controls', 'Can you work an electric drill?']\n",
            "___________________\n",
            "provoke or excite\n",
            "_________________\n",
            "['The rock musician worked the crowd of young girls into a frenzy']\n",
            "___________________\n",
            "gratify and charm, usually in order to influence\n",
            "_________________\n",
            "['the political candidate worked the crowds']\n",
            "___________________\n",
            "make something, usually for a specific function\n",
            "_________________\n",
            "['She molded the rice balls carefully', 'Form cylinders from the dough', 'shape a figure', 'Work the metal into a sword']\n",
            "___________________\n",
            "move into or onto\n",
            "_________________\n",
            "['work the raisins into the dough', 'the student worked a few jokes into his presentation', 'work the body onto the flatbed truck']\n",
            "___________________\n",
            "make uniform\n",
            "_________________\n",
            "['knead dough', 'work the clay until it is soft']\n",
            "___________________\n",
            "use or manipulate to one's advantage\n",
            "_________________\n",
            "['He exploit the new taxation system', 'She knows how to work the system', 'he works his parents for sympathy']\n",
            "___________________\n",
            "find the solution to (a problem or question) or understand the meaning of\n",
            "_________________\n",
            "['did you solve the problem?', 'Work out your problems with the boss', \"this unpleasant situation isn't going to work itself out\", 'did you get it?', 'Did you get my meaning?', 'He could not work the math problem']\n",
            "___________________\n",
            "cause to undergo fermentation\n",
            "_________________\n",
            "['We ferment the grapes for a very long time to achieve high alcohol content', 'The vintner worked the wine in big oak vats']\n",
            "___________________\n",
            "go sour or spoil\n",
            "_________________\n",
            "['The milk has soured', 'The wine worked', 'The cream has turned--we have to throw it out']\n",
            "___________________\n",
            "arrive at a certain condition through repeated motion\n",
            "_________________\n",
            "['The stitches of the hem worked loose after she wore the skirt many times']\n"
          ],
          "name": "stdout"
        }
      ]
    },
    {
      "cell_type": "code",
      "metadata": {
        "id": "aQaBCYPWjJHI",
        "colab_type": "code",
        "colab": {}
      },
      "source": [
        ""
      ],
      "execution_count": 0,
      "outputs": []
    }
  ]
}