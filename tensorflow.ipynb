{
  "nbformat": 4,
  "nbformat_minor": 0,
  "metadata": {
    "colab": {
      "name": "tensorflow",
      "version": "0.3.2",
      "provenance": [],
      "include_colab_link": true
    },
    "kernelspec": {
      "name": "python3",
      "display_name": "Python 3"
    }
  },
  "cells": [
    {
      "cell_type": "markdown",
      "metadata": {
        "id": "view-in-github",
        "colab_type": "text"
      },
      "source": [
        "<a href=\"https://colab.research.google.com/github/uzmakhan7/uk/blob/master/tensorflow.ipynb\" target=\"_parent\"><img src=\"https://colab.research.google.com/assets/colab-badge.svg\" alt=\"Open In Colab\"/></a>"
      ]
    },
    {
      "cell_type": "code",
      "metadata": {
        "id": "9fcYf0KekObA",
        "colab_type": "code",
        "colab": {}
      },
      "source": [
        "import tensorflow as tf\n",
        "import pandas as pd"
      ],
      "execution_count": 0,
      "outputs": []
    },
    {
      "cell_type": "code",
      "metadata": {
        "id": "_LrPpKHyk-vj",
        "colab_type": "code",
        "outputId": "41737d7d-ff8a-4d33-ce8d-aad94dd0ea7e",
        "colab": {
          "base_uri": "https://localhost:8080/",
          "height": 1000
        }
      },
      "source": [
        "dir(tensorflow)"
      ],
      "execution_count": 0,
      "outputs": [
        {
          "output_type": "execute_result",
          "data": {
            "text/plain": [
              "['AUTO_REUSE',\n",
              " 'AggregationMethod',\n",
              " 'Assert',\n",
              " 'AttrValue',\n",
              " 'COMPILER_VERSION',\n",
              " 'CXX11_ABI_FLAG',\n",
              " 'ConditionalAccumulator',\n",
              " 'ConditionalAccumulatorBase',\n",
              " 'ConfigProto',\n",
              " 'CriticalSection',\n",
              " 'DType',\n",
              " 'DeviceSpec',\n",
              " 'Dimension',\n",
              " 'Event',\n",
              " 'FIFOQueue',\n",
              " 'FixedLenFeature',\n",
              " 'FixedLenSequenceFeature',\n",
              " 'FixedLengthRecordReader',\n",
              " 'GIT_VERSION',\n",
              " 'GPUOptions',\n",
              " 'GRAPH_DEF_VERSION',\n",
              " 'GRAPH_DEF_VERSION_MIN_CONSUMER',\n",
              " 'GRAPH_DEF_VERSION_MIN_PRODUCER',\n",
              " 'GradientTape',\n",
              " 'Graph',\n",
              " 'GraphDef',\n",
              " 'GraphKeys',\n",
              " 'GraphOptions',\n",
              " 'HistogramProto',\n",
              " 'IdentityReader',\n",
              " 'IndexedSlices',\n",
              " 'InteractiveSession',\n",
              " 'LMDBReader',\n",
              " 'LogMessage',\n",
              " 'MONOLITHIC_BUILD',\n",
              " 'MetaGraphDef',\n",
              " 'Module',\n",
              " 'NameAttrList',\n",
              " 'NoGradient',\n",
              " 'NodeDef',\n",
              " 'NotDifferentiable',\n",
              " 'OpError',\n",
              " 'Operation',\n",
              " 'OptimizerOptions',\n",
              " 'PaddingFIFOQueue',\n",
              " 'Print',\n",
              " 'PriorityQueue',\n",
              " 'QUANTIZED_DTYPES',\n",
              " 'QueueBase',\n",
              " 'RaggedTensor',\n",
              " 'RandomShuffleQueue',\n",
              " 'ReaderBase',\n",
              " 'RegisterGradient',\n",
              " 'RunMetadata',\n",
              " 'RunOptions',\n",
              " 'Session',\n",
              " 'SessionLog',\n",
              " 'SparseConditionalAccumulator',\n",
              " 'SparseFeature',\n",
              " 'SparseTensor',\n",
              " 'SparseTensorValue',\n",
              " 'Summary',\n",
              " 'SummaryMetadata',\n",
              " 'TFRecordReader',\n",
              " 'Tensor',\n",
              " 'TensorArray',\n",
              " 'TensorInfo',\n",
              " 'TensorShape',\n",
              " 'TensorSpec',\n",
              " 'TextLineReader',\n",
              " 'UnconnectedGradients',\n",
              " 'VERSION',\n",
              " 'VarLenFeature',\n",
              " 'Variable',\n",
              " 'VariableAggregation',\n",
              " 'VariableScope',\n",
              " 'VariableSynchronization',\n",
              " 'WholeFileReader',\n",
              " '_API_MODULE',\n",
              " '_CONTRIB_WARNING',\n",
              " '__all__',\n",
              " '__builtins__',\n",
              " '__cached__',\n",
              " '__compiler_version__',\n",
              " '__cxx11_abi_flag__',\n",
              " '__doc__',\n",
              " '__file__',\n",
              " '__git_version__',\n",
              " '__loader__',\n",
              " '__monolithic_build__',\n",
              " '__name__',\n",
              " '__package__',\n",
              " '__path__',\n",
              " '__spec__',\n",
              " '__version__',\n",
              " '_absolute_import',\n",
              " '_api',\n",
              " '_current_file_location',\n",
              " '_current_module',\n",
              " '_deprecation_wrapper',\n",
              " '_distutils',\n",
              " '_division',\n",
              " '_fi',\n",
              " '_inspect',\n",
              " '_ll',\n",
              " '_module_util',\n",
              " '_names_with_underscore',\n",
              " '_os',\n",
              " '_print_function',\n",
              " '_running_from_pip_package',\n",
              " '_site',\n",
              " '_site_packages_dirs',\n",
              " '_sys',\n",
              " '_tf_api_dir',\n",
              " 'abs',\n",
              " 'accumulate_n',\n",
              " 'acos',\n",
              " 'acosh',\n",
              " 'add',\n",
              " 'add_check_numerics_ops',\n",
              " 'add_n',\n",
              " 'add_to_collection',\n",
              " 'add_to_collections',\n",
              " 'all_variables',\n",
              " 'angle',\n",
              " 'app',\n",
              " 'arg_max',\n",
              " 'arg_min',\n",
              " 'argmax',\n",
              " 'argmin',\n",
              " 'argsort',\n",
              " 'as_dtype',\n",
              " 'as_string',\n",
              " 'asin',\n",
              " 'asinh',\n",
              " 'assert_equal',\n",
              " 'assert_greater',\n",
              " 'assert_greater_equal',\n",
              " 'assert_integer',\n",
              " 'assert_less',\n",
              " 'assert_less_equal',\n",
              " 'assert_near',\n",
              " 'assert_negative',\n",
              " 'assert_non_negative',\n",
              " 'assert_non_positive',\n",
              " 'assert_none_equal',\n",
              " 'assert_positive',\n",
              " 'assert_proper_iterable',\n",
              " 'assert_rank',\n",
              " 'assert_rank_at_least',\n",
              " 'assert_rank_in',\n",
              " 'assert_same_float_dtype',\n",
              " 'assert_scalar',\n",
              " 'assert_type',\n",
              " 'assert_variables_initialized',\n",
              " 'assign',\n",
              " 'assign_add',\n",
              " 'assign_sub',\n",
              " 'atan',\n",
              " 'atan2',\n",
              " 'atanh',\n",
              " 'audio',\n",
              " 'autograph',\n",
              " 'batch_gather',\n",
              " 'batch_scatter_update',\n",
              " 'batch_to_space',\n",
              " 'batch_to_space_nd',\n",
              " 'betainc',\n",
              " 'bfloat16',\n",
              " 'bincount',\n",
              " 'bitcast',\n",
              " 'bitwise',\n",
              " 'bool',\n",
              " 'boolean_mask',\n",
              " 'broadcast_dynamic_shape',\n",
              " 'broadcast_static_shape',\n",
              " 'broadcast_to',\n",
              " 'case',\n",
              " 'cast',\n",
              " 'ceil',\n",
              " 'check_numerics',\n",
              " 'cholesky',\n",
              " 'cholesky_solve',\n",
              " 'clip_by_average_norm',\n",
              " 'clip_by_global_norm',\n",
              " 'clip_by_norm',\n",
              " 'clip_by_value',\n",
              " 'colocate_with',\n",
              " 'compat',\n",
              " 'complex',\n",
              " 'complex128',\n",
              " 'complex64',\n",
              " 'concat',\n",
              " 'cond',\n",
              " 'config',\n",
              " 'confusion_matrix',\n",
              " 'conj',\n",
              " 'constant',\n",
              " 'constant_initializer',\n",
              " 'container',\n",
              " 'contrib',\n",
              " 'control_dependencies',\n",
              " 'convert_to_tensor',\n",
              " 'convert_to_tensor_or_indexed_slices',\n",
              " 'convert_to_tensor_or_sparse_tensor',\n",
              " 'cos',\n",
              " 'cosh',\n",
              " 'count_nonzero',\n",
              " 'count_up_to',\n",
              " 'create_partitioned_variables',\n",
              " 'cross',\n",
              " 'cumprod',\n",
              " 'cumsum',\n",
              " 'custom_gradient',\n",
              " 'data',\n",
              " 'debugging',\n",
              " 'decode_base64',\n",
              " 'decode_compressed',\n",
              " 'decode_csv',\n",
              " 'decode_json_example',\n",
              " 'decode_raw',\n",
              " 'delete_session_tensor',\n",
              " 'depth_to_space',\n",
              " 'dequantize',\n",
              " 'deserialize_many_sparse',\n",
              " 'device',\n",
              " 'diag',\n",
              " 'diag_part',\n",
              " 'digamma',\n",
              " 'dimension_at_index',\n",
              " 'dimension_value',\n",
              " 'disable_eager_execution',\n",
              " 'disable_resource_variables',\n",
              " 'disable_v2_behavior',\n",
              " 'disable_v2_tensorshape',\n",
              " 'distribute',\n",
              " 'distributions',\n",
              " 'div',\n",
              " 'div_no_nan',\n",
              " 'divide',\n",
              " 'double',\n",
              " 'dtypes',\n",
              " 'dynamic_partition',\n",
              " 'dynamic_stitch',\n",
              " 'edit_distance',\n",
              " 'einsum',\n",
              " 'enable_eager_execution',\n",
              " 'enable_resource_variables',\n",
              " 'enable_v2_behavior',\n",
              " 'enable_v2_tensorshape',\n",
              " 'encode_base64',\n",
              " 'ensure_shape',\n",
              " 'equal',\n",
              " 'erf',\n",
              " 'erfc',\n",
              " 'errors',\n",
              " 'estimator',\n",
              " 'executing_eagerly',\n",
              " 'exp',\n",
              " 'expand_dims',\n",
              " 'experimental',\n",
              " 'expm1',\n",
              " 'extract_image_patches',\n",
              " 'extract_volume_patches',\n",
              " 'eye',\n",
              " 'fake_quant_with_min_max_args',\n",
              " 'fake_quant_with_min_max_args_gradient',\n",
              " 'fake_quant_with_min_max_vars',\n",
              " 'fake_quant_with_min_max_vars_gradient',\n",
              " 'fake_quant_with_min_max_vars_per_channel',\n",
              " 'fake_quant_with_min_max_vars_per_channel_gradient',\n",
              " 'feature_column',\n",
              " 'fft',\n",
              " 'fft2d',\n",
              " 'fft3d',\n",
              " 'fill',\n",
              " 'fingerprint',\n",
              " 'fixed_size_partitioner',\n",
              " 'flags',\n",
              " 'float16',\n",
              " 'float32',\n",
              " 'float64',\n",
              " 'floor',\n",
              " 'floor_div',\n",
              " 'floordiv',\n",
              " 'floormod',\n",
              " 'foldl',\n",
              " 'foldr',\n",
              " 'function',\n",
              " 'gather',\n",
              " 'gather_nd',\n",
              " 'get_collection',\n",
              " 'get_collection_ref',\n",
              " 'get_default_graph',\n",
              " 'get_default_session',\n",
              " 'get_local_variable',\n",
              " 'get_logger',\n",
              " 'get_seed',\n",
              " 'get_session_handle',\n",
              " 'get_session_tensor',\n",
              " 'get_static_value',\n",
              " 'get_variable',\n",
              " 'get_variable_scope',\n",
              " 'gfile',\n",
              " 'global_norm',\n",
              " 'global_variables',\n",
              " 'global_variables_initializer',\n",
              " 'glorot_normal_initializer',\n",
              " 'glorot_uniform_initializer',\n",
              " 'gradients',\n",
              " 'graph_util',\n",
              " 'greater',\n",
              " 'greater_equal',\n",
              " 'group',\n",
              " 'guarantee_const',\n",
              " 'half',\n",
              " 'hessians',\n",
              " 'histogram_fixed_width',\n",
              " 'histogram_fixed_width_bins',\n",
              " 'identity',\n",
              " 'identity_n',\n",
              " 'ifft',\n",
              " 'ifft2d',\n",
              " 'ifft3d',\n",
              " 'igamma',\n",
              " 'igammac',\n",
              " 'imag',\n",
              " 'image',\n",
              " 'import_graph_def',\n",
              " 'init_scope',\n",
              " 'initialize_all_tables',\n",
              " 'initialize_all_variables',\n",
              " 'initialize_local_variables',\n",
              " 'initialize_variables',\n",
              " 'initializers',\n",
              " 'int16',\n",
              " 'int32',\n",
              " 'int64',\n",
              " 'int8',\n",
              " 'invert_permutation',\n",
              " 'io',\n",
              " 'is_finite',\n",
              " 'is_inf',\n",
              " 'is_nan',\n",
              " 'is_non_decreasing',\n",
              " 'is_numeric_tensor',\n",
              " 'is_strictly_increasing',\n",
              " 'is_tensor',\n",
              " 'is_variable_initialized',\n",
              " 'keras',\n",
              " 'layers',\n",
              " 'lbeta',\n",
              " 'less',\n",
              " 'less_equal',\n",
              " 'lgamma',\n",
              " 'lin_space',\n",
              " 'linalg',\n",
              " 'linspace',\n",
              " 'lite',\n",
              " 'load_file_system_library',\n",
              " 'load_library',\n",
              " 'load_op_library',\n",
              " 'local_variables',\n",
              " 'local_variables_initializer',\n",
              " 'log',\n",
              " 'log1p',\n",
              " 'log_sigmoid',\n",
              " 'logging',\n",
              " 'logical_and',\n",
              " 'logical_not',\n",
              " 'logical_or',\n",
              " 'logical_xor',\n",
              " 'lookup',\n",
              " 'losses',\n",
              " 'make_ndarray',\n",
              " 'make_template',\n",
              " 'make_tensor_proto',\n",
              " 'manip',\n",
              " 'map_fn',\n",
              " 'matching_files',\n",
              " 'math',\n",
              " 'matmul',\n",
              " 'matrix_band_part',\n",
              " 'matrix_determinant',\n",
              " 'matrix_diag',\n",
              " 'matrix_diag_part',\n",
              " 'matrix_inverse',\n",
              " 'matrix_set_diag',\n",
              " 'matrix_solve',\n",
              " 'matrix_solve_ls',\n",
              " 'matrix_square_root',\n",
              " 'matrix_transpose',\n",
              " 'matrix_triangular_solve',\n",
              " 'maximum',\n",
              " 'meshgrid',\n",
              " 'metrics',\n",
              " 'min_max_variable_partitioner',\n",
              " 'minimum',\n",
              " 'mod',\n",
              " 'model_variables',\n",
              " 'moving_average_variables',\n",
              " 'multinomial',\n",
              " 'multiply',\n",
              " 'name_scope',\n",
              " 'negative',\n",
              " 'nest',\n",
              " 'newaxis',\n",
              " 'nn',\n",
              " 'no_gradient',\n",
              " 'no_op',\n",
              " 'no_regularizer',\n",
              " 'nondifferentiable_batch_function',\n",
              " 'norm',\n",
              " 'not_equal',\n",
              " 'numpy_function',\n",
              " 'one_hot',\n",
              " 'ones',\n",
              " 'ones_initializer',\n",
              " 'ones_like',\n",
              " 'op_scope',\n",
              " 'orthogonal_initializer',\n",
              " 'pad',\n",
              " 'parallel_stack',\n",
              " 'parse_example',\n",
              " 'parse_single_example',\n",
              " 'parse_single_sequence_example',\n",
              " 'parse_tensor',\n",
              " 'placeholder',\n",
              " 'placeholder_with_default',\n",
              " 'plugin_dir',\n",
              " 'polygamma',\n",
              " 'pow',\n",
              " 'print',\n",
              " 'profiler',\n",
              " 'py_func',\n",
              " 'py_function',\n",
              " 'python_io',\n",
              " 'pywrap_tensorflow',\n",
              " 'qint16',\n",
              " 'qint32',\n",
              " 'qint8',\n",
              " 'qr',\n",
              " 'quantization',\n",
              " 'quantize',\n",
              " 'quantize_v2',\n",
              " 'quantized_concat',\n",
              " 'queue',\n",
              " 'quint16',\n",
              " 'quint8',\n",
              " 'ragged',\n",
              " 'random',\n",
              " 'random_crop',\n",
              " 'random_gamma',\n",
              " 'random_normal',\n",
              " 'random_normal_initializer',\n",
              " 'random_poisson',\n",
              " 'random_shuffle',\n",
              " 'random_uniform',\n",
              " 'random_uniform_initializer',\n",
              " 'range',\n",
              " 'rank',\n",
              " 'raw_ops',\n",
              " 'read_file',\n",
              " 'real',\n",
              " 'realdiv',\n",
              " 'reciprocal',\n",
              " 'reduce_all',\n",
              " 'reduce_any',\n",
              " 'reduce_join',\n",
              " 'reduce_logsumexp',\n",
              " 'reduce_max',\n",
              " 'reduce_mean',\n",
              " 'reduce_min',\n",
              " 'reduce_prod',\n",
              " 'reduce_sum',\n",
              " 'regex_replace',\n",
              " 'register_tensor_conversion_function',\n",
              " 'report_uninitialized_variables',\n",
              " 'required_space_to_batch_paddings',\n",
              " 'reset_default_graph',\n",
              " 'reshape',\n",
              " 'resource',\n",
              " 'resource_loader',\n",
              " 'resource_variables_enabled',\n",
              " 'reverse',\n",
              " 'reverse_sequence',\n",
              " 'reverse_v2',\n",
              " 'rint',\n",
              " 'roll',\n",
              " 'round',\n",
              " 'rsqrt',\n",
              " 's',\n",
              " 'saturate_cast',\n",
              " 'saved_model',\n",
              " 'scalar_mul',\n",
              " 'scan',\n",
              " 'scatter_add',\n",
              " 'scatter_div',\n",
              " 'scatter_max',\n",
              " 'scatter_min',\n",
              " 'scatter_mul',\n",
              " 'scatter_nd',\n",
              " 'scatter_nd_add',\n",
              " 'scatter_nd_sub',\n",
              " 'scatter_nd_update',\n",
              " 'scatter_sub',\n",
              " 'scatter_update',\n",
              " 'searchsorted',\n",
              " 'segment_max',\n",
              " 'segment_mean',\n",
              " 'segment_min',\n",
              " 'segment_prod',\n",
              " 'segment_sum',\n",
              " 'self_adjoint_eig',\n",
              " 'self_adjoint_eigvals',\n",
              " 'sequence_mask',\n",
              " 'serialize_many_sparse',\n",
              " 'serialize_sparse',\n",
              " 'serialize_tensor',\n",
              " 'set_random_seed',\n",
              " 'setdiff1d',\n",
              " 'sets',\n",
              " 'shape',\n",
              " 'shape_n',\n",
              " 'sigmoid',\n",
              " 'sign',\n",
              " 'signal',\n",
              " 'sin',\n",
              " 'sinh',\n",
              " 'size',\n",
              " 'slice',\n",
              " 'sort',\n",
              " 'space_to_batch',\n",
              " 'space_to_batch_nd',\n",
              " 'space_to_depth',\n",
              " 'sparse',\n",
              " 'sparse_add',\n",
              " 'sparse_concat',\n",
              " 'sparse_fill_empty_rows',\n",
              " 'sparse_mask',\n",
              " 'sparse_matmul',\n",
              " 'sparse_maximum',\n",
              " 'sparse_merge',\n",
              " 'sparse_minimum',\n",
              " 'sparse_placeholder',\n",
              " 'sparse_reduce_max',\n",
              " 'sparse_reduce_max_sparse',\n",
              " 'sparse_reduce_sum',\n",
              " 'sparse_reduce_sum_sparse',\n",
              " 'sparse_reorder',\n",
              " 'sparse_reset_shape',\n",
              " 'sparse_reshape',\n",
              " 'sparse_retain',\n",
              " 'sparse_segment_mean',\n",
              " 'sparse_segment_sqrt_n',\n",
              " 'sparse_segment_sum',\n",
              " 'sparse_slice',\n",
              " 'sparse_softmax',\n",
              " 'sparse_split',\n",
              " 'sparse_tensor_dense_matmul',\n",
              " 'sparse_tensor_to_dense',\n",
              " 'sparse_to_dense',\n",
              " 'sparse_to_indicator',\n",
              " 'sparse_transpose',\n",
              " 'spectral',\n",
              " 'split',\n",
              " 'sqrt',\n",
              " 'square',\n",
              " 'squared_difference',\n",
              " 'squeeze',\n",
              " 'stack',\n",
              " 'stop_gradient',\n",
              " 'strided_slice',\n",
              " 'string',\n",
              " 'string_join',\n",
              " 'string_split',\n",
              " 'string_strip',\n",
              " 'string_to_hash_bucket',\n",
              " 'string_to_hash_bucket_fast',\n",
              " 'string_to_hash_bucket_strong',\n",
              " 'string_to_number',\n",
              " 'strings',\n",
              " 'substr',\n",
              " 'subtract',\n",
              " 'summary',\n",
              " 'svd',\n",
              " 'switch_case',\n",
              " 'sysconfig',\n",
              " 'tables_initializer',\n",
              " 'tan',\n",
              " 'tanh',\n",
              " 'tensor_scatter_add',\n",
              " 'tensor_scatter_nd_add',\n",
              " 'tensor_scatter_nd_sub',\n",
              " 'tensor_scatter_nd_update',\n",
              " 'tensor_scatter_sub',\n",
              " 'tensor_scatter_update',\n",
              " 'tensordot',\n",
              " 'test',\n",
              " 'tile',\n",
              " 'timestamp',\n",
              " 'to_bfloat16',\n",
              " 'to_complex128',\n",
              " 'to_complex64',\n",
              " 'to_double',\n",
              " 'to_float',\n",
              " 'to_int32',\n",
              " 'to_int64',\n",
              " 'tools',\n",
              " 'tpu',\n",
              " 'trace',\n",
              " 'train',\n",
              " 'trainable_variables',\n",
              " 'transpose',\n",
              " 'truediv',\n",
              " 'truncated_normal',\n",
              " 'truncated_normal_initializer',\n",
              " 'truncatediv',\n",
              " 'truncatemod',\n",
              " 'tuple',\n",
              " 'uint16',\n",
              " 'uint32',\n",
              " 'uint64',\n",
              " 'uint8',\n",
              " 'uniform_unit_scaling_initializer',\n",
              " 'unique',\n",
              " 'unique_with_counts',\n",
              " 'unravel_index',\n",
              " 'unsorted_segment_max',\n",
              " 'unsorted_segment_mean',\n",
              " 'unsorted_segment_min',\n",
              " 'unsorted_segment_prod',\n",
              " 'unsorted_segment_sqrt_n',\n",
              " 'unsorted_segment_sum',\n",
              " 'unstack',\n",
              " 'user_ops',\n",
              " 'variable_axis_size_partitioner',\n",
              " 'variable_creator_scope',\n",
              " 'variable_op_scope',\n",
              " 'variable_scope',\n",
              " 'variables_initializer',\n",
              " 'variance_scaling_initializer',\n",
              " 'variant',\n",
              " 'vectorized_map',\n",
              " 'verify_tensor_all_finite',\n",
              " 'version',\n",
              " 'where',\n",
              " 'where_v2',\n",
              " 'while_loop',\n",
              " 'wrap_function',\n",
              " 'write_file',\n",
              " 'xla',\n",
              " 'zeros',\n",
              " 'zeros_initializer',\n",
              " 'zeros_like',\n",
              " 'zeta']"
            ]
          },
          "metadata": {
            "tags": []
          },
          "execution_count": 27
        }
      ]
    },
    {
      "cell_type": "code",
      "metadata": {
        "id": "t01JLR2mlHGY",
        "colab_type": "code",
        "outputId": "6928f9b7-1bd1-42f5-9891-7d97a4579c1e",
        "colab": {
          "base_uri": "https://localhost:8080/",
          "height": 119
        }
      },
      "source": [
        "!pip3 list | grep -i tensorflow"
      ],
      "execution_count": 0,
      "outputs": [
        {
          "output_type": "stream",
          "text": [
            "mesh-tensorflow          0.0.5                \n",
            "tensorflow               1.14.0               \n",
            "tensorflow-estimator     1.14.0               \n",
            "tensorflow-hub           0.4.0                \n",
            "tensorflow-metadata      0.13.0               \n",
            "tensorflow-probability   0.7.0                \n"
          ],
          "name": "stdout"
        }
      ]
    },
    {
      "cell_type": "code",
      "metadata": {
        "id": "x3iz6AtSlrch",
        "colab_type": "code",
        "colab": {}
      },
      "source": [
        "#to assign fix value in tensorflow,we need to define constant\n",
        "x=tf.constant([30])"
      ],
      "execution_count": 0,
      "outputs": []
    },
    {
      "cell_type": "code",
      "metadata": {
        "id": "p2prwxI2msBb",
        "colab_type": "code",
        "colab": {}
      },
      "source": [
        "x1=tf.constant([3,5,66,88])  #multi value constant"
      ],
      "execution_count": 0,
      "outputs": []
    },
    {
      "cell_type": "code",
      "metadata": {
        "id": "izeJg3JDm7j8",
        "colab_type": "code",
        "outputId": "a7a491c3-0bbb-43c6-f593-54f4d1bc4508",
        "colab": {
          "base_uri": "https://localhost:8080/",
          "height": 34
        }
      },
      "source": [
        "type(x)"
      ],
      "execution_count": 0,
      "outputs": [
        {
          "output_type": "execute_result",
          "data": {
            "text/plain": [
              "tensorflow.python.framework.ops.Tensor"
            ]
          },
          "metadata": {
            "tags": []
          },
          "execution_count": 31
        }
      ]
    },
    {
      "cell_type": "code",
      "metadata": {
        "id": "FyMpfgiQnEz8",
        "colab_type": "code",
        "colab": {}
      },
      "source": [
        "y=tf.constant(20)"
      ],
      "execution_count": 0,
      "outputs": []
    },
    {
      "cell_type": "code",
      "metadata": {
        "id": "ghedp88IoLPH",
        "colab_type": "code",
        "colab": {}
      },
      "source": [
        "z=x+y"
      ],
      "execution_count": 0,
      "outputs": []
    },
    {
      "cell_type": "code",
      "metadata": {
        "id": "MQKR6yLPot2u",
        "colab_type": "code",
        "colab": {}
      },
      "source": [
        "z1=tf.add(x,y)"
      ],
      "execution_count": 0,
      "outputs": []
    },
    {
      "cell_type": "code",
      "metadata": {
        "id": "fntV8sNGo1QI",
        "colab_type": "code",
        "colab": {}
      },
      "source": [
        "#now time for assigning resources to our equation\n",
        "sess=tf.Session() #connect cpu,gpu tpu"
      ],
      "execution_count": 0,
      "outputs": []
    },
    {
      "cell_type": "code",
      "metadata": {
        "id": "PNbzDpPN0Eog",
        "colab_type": "code",
        "colab": {}
      },
      "source": [
        "#now we can run our equatin\n",
        "output=sess.run(z)"
      ],
      "execution_count": 0,
      "outputs": []
    },
    {
      "cell_type": "code",
      "metadata": {
        "id": "GCUyksjv0V5R",
        "colab_type": "code",
        "outputId": "7c5afeb1-870c-498e-b7a9-9b0488e5a92c",
        "colab": {
          "base_uri": "https://localhost:8080/",
          "height": 34
        }
      },
      "source": [
        "output"
      ],
      "execution_count": 0,
      "outputs": [
        {
          "output_type": "execute_result",
          "data": {
            "text/plain": [
              "array([50], dtype=int32)"
            ]
          },
          "metadata": {
            "tags": []
          },
          "execution_count": 38
        }
      ]
    },
    {
      "cell_type": "code",
      "metadata": {
        "id": "iTfwJnUP0X_R",
        "colab_type": "code",
        "colab": {}
      },
      "source": [
        "sess.close()   #closing session"
      ],
      "execution_count": 0,
      "outputs": []
    },
    {
      "cell_type": "code",
      "metadata": {
        "id": "nWFUFwGU0hJT",
        "colab_type": "code",
        "colab": {}
      },
      "source": [
        "#we can perform same task in another way\n",
        "with tf.Session() as sess:\n",
        "  output1=sess.run(z)\n",
        "  tf.summary.FileWriter(output1)"
      ],
      "execution_count": 0,
      "outputs": []
    },
    {
      "cell_type": "code",
      "metadata": {
        "id": "J7QZzWxD03HH",
        "colab_type": "code",
        "outputId": "8e360a54-0185-413f-ecff-aabc413ff439",
        "colab": {
          "base_uri": "https://localhost:8080/",
          "height": 34
        }
      },
      "source": [
        "output1"
      ],
      "execution_count": 0,
      "outputs": [
        {
          "output_type": "execute_result",
          "data": {
            "text/plain": [
              "array([50], dtype=int32)"
            ]
          },
          "metadata": {
            "tags": []
          },
          "execution_count": 44
        }
      ]
    },
    {
      "cell_type": "markdown",
      "metadata": {
        "id": "8gxSzjOl3QK2",
        "colab_type": "text"
      },
      "source": [
        "placeholder"
      ]
    },
    {
      "cell_type": "code",
      "metadata": {
        "id": "75YWMpAC09HK",
        "colab_type": "code",
        "colab": {}
      },
      "source": [
        "#first placeholder\n",
        "p1=tf.placeholder(tf.int32)"
      ],
      "execution_count": 0,
      "outputs": []
    },
    {
      "cell_type": "code",
      "metadata": {
        "id": "Q5kw4VyJ3lev",
        "colab_type": "code",
        "colab": {}
      },
      "source": [
        "#placeholder2\n",
        "p2=tf.placeholder(tf.int32)"
      ],
      "execution_count": 0,
      "outputs": []
    },
    {
      "cell_type": "code",
      "metadata": {
        "id": "FMdP89Up3tX2",
        "colab_type": "code",
        "colab": {}
      },
      "source": [
        "sum=tf.add(p1,p2)  #adding values"
      ],
      "execution_count": 0,
      "outputs": []
    },
    {
      "cell_type": "code",
      "metadata": {
        "id": "ZpTR6Lqa322D",
        "colab_type": "code",
        "colab": {}
      },
      "source": [
        "#general\n",
        "sum1=p1+p2"
      ],
      "execution_count": 0,
      "outputs": []
    },
    {
      "cell_type": "code",
      "metadata": {
        "id": "VoBRnZrA381D",
        "colab_type": "code",
        "colab": {}
      },
      "source": [
        "#time for creating session\n",
        "with tf.Session() as sess:\n",
        "  output2=sess.run(sum1,{p1:[3,6],p2:[5,8]})"
      ],
      "execution_count": 0,
      "outputs": []
    },
    {
      "cell_type": "code",
      "metadata": {
        "id": "tiGU7pdY4YtC",
        "colab_type": "code",
        "outputId": "798021f8-5868-45d4-9370-a1028e94a651",
        "colab": {
          "base_uri": "https://localhost:8080/",
          "height": 34
        }
      },
      "source": [
        "output2"
      ],
      "execution_count": 0,
      "outputs": [
        {
          "output_type": "execute_result",
          "data": {
            "text/plain": [
              "array([ 8, 14], dtype=int32)"
            ]
          },
          "metadata": {
            "tags": []
          },
          "execution_count": 55
        }
      ]
    },
    {
      "cell_type": "code",
      "metadata": {
        "id": "qWU1e7234apD",
        "colab_type": "code",
        "colab": {}
      },
      "source": [
        ""
      ],
      "execution_count": 0,
      "outputs": []
    }
  ]
}